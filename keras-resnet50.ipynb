{
 "cells": [
  {
   "cell_type": "markdown",
   "metadata": {},
   "source": [
    "# Simple Example of using WebLoader with Keras"
   ]
  },
  {
   "cell_type": "code",
   "execution_count": 1,
   "metadata": {},
   "outputs": [
    {
     "name": "stderr",
     "output_type": "stream",
     "text": [
      "Using TensorFlow backend.\n"
     ]
    }
   ],
   "source": [
    "import os\n",
    "import logging\n",
    "logging.disable(logging.WARNING)\n",
    "os.environ[\"TF_CPP_MIN_LOG_LEVEL\"] = \"3\"\n",
    "\n",
    "import keras\n",
    "from keras.models import Sequential\n",
    "from keras.layers import Dense, Dropout, Activation, Flatten, Conv2D, MaxPooling2D\n",
    "from keras import models, layers\n",
    "import numpy as np\n",
    "\n",
    "from keras.utils.training_utils import multi_gpu_model\n",
    "import numpy as np\n",
    "import webloader as wl\n",
    "\n",
    "from keras.applications.resnet50 import ResNet50"
   ]
  },
  {
   "cell_type": "code",
   "execution_count": 2,
   "metadata": {},
   "outputs": [],
   "source": [
    "#from tensorflow.python.client import device_lib\n",
    "#print(device_lib.list_local_devices())"
   ]
  },
  {
   "cell_type": "code",
   "execution_count": 3,
   "metadata": {},
   "outputs": [],
   "source": [
    "#!test -f imagenet_val-0000-000.tgz || curl http://storage.googleapis.com/lpr-imagenet-augmented/imagenet_val-0000-000.tgz -o imagenet_val-0000.tgz"
   ]
  },
  {
   "cell_type": "code",
   "execution_count": 4,
   "metadata": {},
   "outputs": [],
   "source": [
    "num_gpus = 1\n",
    "\n",
    "if True:\n",
    "    # user smaller epochs for the demo\n",
    "    training_size = 10000\n",
    "    test_size = 5000\n",
    "else:\n",
    "    # true epoch sizes\n",
    "    training_size = 1000000\n",
    "    test_size = 5000\n",
    "\n",
    "urls = \"http://storage.googleapis.com/lpr-imagenet-augmented/imagenet_train-{0000..0147}-{000..019}.tgz\"\n",
    "batch_size = 64\n",
    "num_batches = training_size//batch_size\n",
    "\n",
    "test_urls = \"http://storage.googleapis.com/lpr-imagenet-augmented/imagenet_val-0000-000.tgz\"\n",
    "test_batch_size = 256\n",
    "test_num_batches = test_size//test_batch_size"
   ]
  },
  {
   "cell_type": "code",
   "execution_count": 5,
   "metadata": {},
   "outputs": [],
   "source": [
    "mean = np.array([0.485, 0.456, 0.406], \"f\")\n",
    "std = np.array([0.229, 0.224, 0.225], \"f\")\n",
    "def norm_image(xs):\n",
    "    return (xs-mean[None,None,None,:])/std[None,None,None,:]\n",
    "def norm_cls(ys):\n",
    "    return keras.utils.to_categorical(ys-1, 1000)"
   ]
  },
  {
   "cell_type": "code",
   "execution_count": 6,
   "metadata": {},
   "outputs": [
    {
     "name": "stdout",
     "output_type": "stream",
     "text": [
      "263.10 samples/s 1.03 batches/s\n",
      "Example:\n",
      "0 : ndarray (256, 224, 224, 3) float32 -2.117904 2.64\n",
      "1 : ndarray (256, 1000) float32 0.0 1.0\n"
     ]
    }
   ],
   "source": [
    "testing = wl.WebLoader(test_urls, test_size,\n",
    "                       fields=\"ppm;png;jpg cls\",\n",
    "                       shuffle=1000,\n",
    "                       batch_transforms=[norm_image, norm_cls],\n",
    "                       batch_size=test_batch_size,\n",
    "                       epochs=-1)\n",
    "wl.loader_test(testing)"
   ]
  },
  {
   "cell_type": "code",
   "execution_count": 7,
   "metadata": {},
   "outputs": [
    {
     "name": "stdout",
     "output_type": "stream",
     "text": [
      "461.41 samples/s 7.21 batches/s\n",
      "Example:\n",
      "0 : ndarray (64, 224, 224, 3) float32 -2.117904 2.64\n",
      "1 : ndarray (64, 1000) float32 0.0 1.0\n"
     ]
    }
   ],
   "source": [
    "# you can use a WebLoader here and multiprocessing in model.fit_generator,\n",
    "# or you can use a MultiWebLoader here and disable multiprocessing in model.fit_generator\n",
    "training = wl.MultiWebLoader(urls, training_size,\n",
    "                       fields=\"ppm;png;jpg cls\",\n",
    "                       batch_transforms=[norm_image, norm_cls],\n",
    "                       batch_size=batch_size,\n",
    "                       processes=4,\n",
    "                       shuffle=1000)\n",
    "wl.loader_test(training)"
   ]
  },
  {
   "cell_type": "code",
   "execution_count": 8,
   "metadata": {},
   "outputs": [
    {
     "name": "stdout",
     "output_type": "stream",
     "text": [
      "Epoch 1/3\n",
      "156/156 [==============================] - 69s 444ms/step - loss: 7.1328 - acc: 0.0017 - val_loss: 9.2291 - val_acc: 0.0016\n",
      "Epoch 2/3\n",
      "156/156 [==============================] - 61s 391ms/step - loss: 6.8958 - acc: 0.0027 - val_loss: 9.6708 - val_acc: 0.0014\n",
      "Epoch 3/3\n",
      "156/156 [==============================] - 62s 395ms/step - loss: 6.8141 - acc: 0.0035 - val_loss: 7.0145 - val_acc: 0.0029\n"
     ]
    },
    {
     "data": {
      "text/plain": [
       "<keras.callbacks.History at 0x7f1604447eb8>"
      ]
     },
     "execution_count": 8,
     "metadata": {},
     "output_type": "execute_result"
    }
   ],
   "source": [
    "lr = 0.001 # was: 0.0001\n",
    "\n",
    "model = ResNet50()\n",
    "\n",
    "if num_gpus>1: model = multi_gpu_model(model, gpus=num_gpus)\n",
    "\n",
    "opt = keras.optimizers.rmsprop(lr=lr, decay=1e-6)\n",
    "\n",
    "model.compile(loss='categorical_crossentropy',\n",
    "              optimizer=opt,\n",
    "              metrics=['accuracy'])\n",
    "\n",
    "model.fit_generator(iter(training),\n",
    "              epochs=3,\n",
    "              steps_per_epoch=num_batches, #num_batches,\n",
    "              validation_data=iter(testing),\n",
    "              validation_steps=test_num_batches, #test_num_batches,\n",
    "              shuffle=False,\n",
    "              use_multiprocessing=False,\n",
    "              workers=1)"
   ]
  }
 ],
 "metadata": {
  "kernelspec": {
   "display_name": "Python 3",
   "language": "python",
   "name": "python3"
  },
  "language_info": {
   "codemirror_mode": {
    "name": "ipython",
    "version": 3
   },
   "file_extension": ".py",
   "mimetype": "text/x-python",
   "name": "python",
   "nbconvert_exporter": "python",
   "pygments_lexer": "ipython3",
   "version": "3.6.8"
  }
 },
 "nbformat": 4,
 "nbformat_minor": 4
}
