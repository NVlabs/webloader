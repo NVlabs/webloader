{
 "cells": [
  {
   "cell_type": "code",
   "execution_count": 96,
   "metadata": {},
   "outputs": [],
   "source": [
    "import os, sys, glob, os.path, sqlite3\n",
    "import random as pyr\n",
    "import re\n",
    "import PIL.Image\n",
    "import numpy as np\n",
    "import io\n",
    "import dlinputs as dli\n",
    "import xmltodict\n",
    "import warnings\n",
    "import simplejson\n",
    "import itertools as itt\n",
    "import random\n",
    "\n",
    "def readfile(path, mode=\"rb\"):\n",
    "    with open(path, mode) as stream:\n",
    "        return stream.read()\n",
    "def writefile(path, data):\n",
    "    mode = \"w\" if isinstance(data, str) else \"wb\"\n",
    "    with open(path, mode) as stream:\n",
    "        stream.write(data)\n",
    "def pilreads(data):\n",
    "    stream = io.BytesIO(data)\n",
    "    return np.array(PIL.Image.open(stream))"
   ]
  },
  {
   "cell_type": "code",
   "execution_count": 97,
   "metadata": {},
   "outputs": [
    {
     "name": "stdout",
     "output_type": "stream",
     "text": [
      "1281167 544546\n"
     ]
    }
   ],
   "source": [
    "jpegs = sorted(glob.glob(\"train/*/*.JPEG\"))\n",
    "print(len(jpegs), len(glob.glob(\"train/*/*.xml\")))"
   ]
  },
  {
   "cell_type": "code",
   "execution_count": 134,
   "metadata": {},
   "outputs": [
    {
     "name": "stdout",
     "output_type": "stream",
     "text": [
      "[('n02119789', 1), ('n02100735', 2), ('n02110185', 3), ('n02096294', 4), ('n02102040', 5)]\n",
      "[('n02119789', 'kit fox, Vulpes macrotis'), ('n02100735', 'English setter'), ('n02110185', 'Siberian husky'), ('n02096294', 'Australian terrier'), ('n02102040', 'English springer, English springer spaniel')]\n"
     ]
    }
   ],
   "source": [
    "import scipy.io\n",
    "meta = scipy.io.loadmat(\"ILSVRC2012_devkit_t12/data/meta.mat\")\n",
    "meta = meta[\"synsets\"]\n",
    "def scalar(x):\n",
    "    for i in range(10):\n",
    "        if isinstance(x, str): break\n",
    "        try: x = x[0]\n",
    "        except: break\n",
    "    return x\n",
    "wnid2id = {scalar(l[0][1]): int(scalar(l[0][0])) for l in meta}\n",
    "wnid2cname = {scalar(l[0][1]): str(scalar(l[0][2])) for l in meta}\n",
    "print(list(wnid2id.items())[:5])\n",
    "print(list(wnid2cname.items())[:5])"
   ]
  },
  {
   "cell_type": "code",
   "execution_count": 156,
   "metadata": {},
   "outputs": [
    {
     "name": "stdout",
     "output_type": "stream",
     "text": [
      "val/n01440764/ILSVRC2012_val_00006697.JPEG\n"
     ]
    },
    {
     "ename": "AttributeError",
     "evalue": "'NoneType' object has no attribute 'group'",
     "output_type": "error",
     "traceback": [
      "\u001b[0;31m---------------------------------------------------------------------------\u001b[0m",
      "\u001b[0;31mAttributeError\u001b[0m                            Traceback (most recent call last)",
      "\u001b[0;32m<ipython-input-156-be9ef4252317>\u001b[0m in \u001b[0;36m<module>\u001b[0;34m\u001b[0m\n\u001b[1;32m      8\u001b[0m     \u001b[0;32mreturn\u001b[0m \u001b[0mmatch\u001b[0m\u001b[0;34m.\u001b[0m\u001b[0mgroup\u001b[0m\u001b[0;34m(\u001b[0m\u001b[0;36m1\u001b[0m\u001b[0;34m)\u001b[0m\u001b[0;34m,\u001b[0m \u001b[0mint\u001b[0m\u001b[0;34m(\u001b[0m\u001b[0mmatch\u001b[0m\u001b[0;34m.\u001b[0m\u001b[0mgroup\u001b[0m\u001b[0;34m(\u001b[0m\u001b[0;36m2\u001b[0m\u001b[0;34m)\u001b[0m\u001b[0;34m)\u001b[0m\u001b[0;34m\u001b[0m\u001b[0;34m\u001b[0m\u001b[0m\n\u001b[1;32m      9\u001b[0m \u001b[0mprint\u001b[0m\u001b[0;34m(\u001b[0m\u001b[0mjpegs\u001b[0m\u001b[0;34m[\u001b[0m\u001b[0;36m3\u001b[0m\u001b[0;34m]\u001b[0m\u001b[0;34m)\u001b[0m\u001b[0;34m\u001b[0m\u001b[0;34m\u001b[0m\u001b[0m\n\u001b[0;32m---> 10\u001b[0;31m \u001b[0mpathinfo\u001b[0m\u001b[0;34m(\u001b[0m\u001b[0mjpegs\u001b[0m\u001b[0;34m[\u001b[0m\u001b[0;36m3\u001b[0m\u001b[0;34m]\u001b[0m\u001b[0;34m)\u001b[0m\u001b[0;34m\u001b[0m\u001b[0;34m\u001b[0m\u001b[0m\n\u001b[0m",
      "\u001b[0;32m<ipython-input-156-be9ef4252317>\u001b[0m in \u001b[0;36mpathinfo\u001b[0;34m(path)\u001b[0m\n\u001b[1;32m      6\u001b[0m     \u001b[0;32melif\u001b[0m \u001b[0mmode\u001b[0m\u001b[0;34m==\u001b[0m\u001b[0;34m\"train\"\u001b[0m\u001b[0;34m:\u001b[0m\u001b[0;34m\u001b[0m\u001b[0;34m\u001b[0m\u001b[0m\n\u001b[1;32m      7\u001b[0m         \u001b[0mmatch\u001b[0m \u001b[0;34m=\u001b[0m \u001b[0mre\u001b[0m\u001b[0;34m.\u001b[0m\u001b[0msearch\u001b[0m\u001b[0;34m(\u001b[0m\u001b[0;34mr\"^[a-z]*/([^/]+)/\\1_(\\d+)\\.JPEG\"\u001b[0m\u001b[0;34m,\u001b[0m \u001b[0mpath\u001b[0m\u001b[0;34m)\u001b[0m\u001b[0;34m\u001b[0m\u001b[0;34m\u001b[0m\u001b[0m\n\u001b[0;32m----> 8\u001b[0;31m     \u001b[0;32mreturn\u001b[0m \u001b[0mmatch\u001b[0m\u001b[0;34m.\u001b[0m\u001b[0mgroup\u001b[0m\u001b[0;34m(\u001b[0m\u001b[0;36m1\u001b[0m\u001b[0;34m)\u001b[0m\u001b[0;34m,\u001b[0m \u001b[0mint\u001b[0m\u001b[0;34m(\u001b[0m\u001b[0mmatch\u001b[0m\u001b[0;34m.\u001b[0m\u001b[0mgroup\u001b[0m\u001b[0;34m(\u001b[0m\u001b[0;36m2\u001b[0m\u001b[0;34m)\u001b[0m\u001b[0;34m)\u001b[0m\u001b[0;34m\u001b[0m\u001b[0;34m\u001b[0m\u001b[0m\n\u001b[0m\u001b[1;32m      9\u001b[0m \u001b[0mprint\u001b[0m\u001b[0;34m(\u001b[0m\u001b[0mjpegs\u001b[0m\u001b[0;34m[\u001b[0m\u001b[0;36m3\u001b[0m\u001b[0;34m]\u001b[0m\u001b[0;34m)\u001b[0m\u001b[0;34m\u001b[0m\u001b[0;34m\u001b[0m\u001b[0m\n\u001b[1;32m     10\u001b[0m \u001b[0mpathinfo\u001b[0m\u001b[0;34m(\u001b[0m\u001b[0mjpegs\u001b[0m\u001b[0;34m[\u001b[0m\u001b[0;36m3\u001b[0m\u001b[0;34m]\u001b[0m\u001b[0;34m)\u001b[0m\u001b[0;34m\u001b[0m\u001b[0;34m\u001b[0m\u001b[0m\n",
      "\u001b[0;31mAttributeError\u001b[0m: 'NoneType' object has no attribute 'group'"
     ]
    }
   ],
   "source": [
    "mode = \"train\"\n",
    "def pathinfo(path):\n",
    "    global mode\n",
    "    if mode==\"val\":\n",
    "        match = re.search(r\"^[a-z]*/([^/]+)/ILSVRC2012_val_(\\d+)\\.JPEG\", path)\n",
    "    elif mode==\"train\":\n",
    "        match = re.search(r\"^[a-z]*/([^/]+)/\\1_(\\d+)\\.JPEG\", path)\n",
    "    return match.group(1), int(match.group(2))\n",
    "print(jpegs[3])\n",
    "pathinfo(jpegs[3])"
   ]
  },
  {
   "cell_type": "code",
   "execution_count": 137,
   "metadata": {},
   "outputs": [
    {
     "data": {
      "text/plain": [
       "'n03787032_1598'"
      ]
     },
     "execution_count": 137,
     "metadata": {},
     "output_type": "execute_result"
    }
   ],
   "source": [
    "def pathkey(path):\n",
    "    return re.sub('.JPEG$', '', re.sub('.*/', '', path))\n",
    "\n",
    "pathkey(jpegs[3])"
   ]
  },
  {
   "cell_type": "code",
   "execution_count": 138,
   "metadata": {},
   "outputs": [
    {
     "data": {
      "text/plain": [
       "854"
      ]
     },
     "execution_count": 138,
     "metadata": {},
     "output_type": "execute_result"
    }
   ],
   "source": [
    "def pathcls(path):\n",
    "    return wnid2id[pathinfo(path)[0]]\n",
    "\n",
    "pathcls(jpegs[3])"
   ]
  },
  {
   "cell_type": "code",
   "execution_count": 139,
   "metadata": {},
   "outputs": [
    {
     "name": "stdout",
     "output_type": "stream",
     "text": [
      "{\n",
      "    \"cls\": 322,\n",
      "    \"cname\": \"pineapple, ananas\"\n",
      "}\n"
     ]
    }
   ],
   "source": [
    "def jpeginfo(path):\n",
    "    xmlpath = re.sub(\".JPEG$\", \".xml\", path)\n",
    "    if not os.path.exists(xmlpath):\n",
    "        info = {}\n",
    "    else:\n",
    "        xml = readfile(xmlpath, \"r\")\n",
    "        info = xmltodict.parse(xml)\n",
    "    folder = pathinfo(path)[0]\n",
    "    info[\"cls\"] = wnid2id[folder]\n",
    "    info[\"cname\"] = wnid2cname[folder]\n",
    "    return info\n",
    "\n",
    "infos = [jpeginfo(jpegs[i]) for i in range(100)]\n",
    "infos = list(filter(lambda a: a is not None, infos))\n",
    "print(simplejson.dumps(infos[0], indent=4))"
   ]
  },
  {
   "cell_type": "code",
   "execution_count": 140,
   "metadata": {},
   "outputs": [],
   "source": [
    "try: del writer\n",
    "except: pass\n",
    "!rm -rf ../imagenet-shards\n",
    "!mkdir ../imagenet-shards\n"
   ]
  },
  {
   "cell_type": "code",
   "execution_count": 148,
   "metadata": {},
   "outputs": [],
   "source": [
    "def write_shards(dest, jpegs, maxsize=1e9):\n",
    "    jpegs = jpegs.copy()\n",
    "    random.shuffle(jpegs)\n",
    "    writer = dli.tarrecords.ShardWriter(dest, maxsize=maxsize, encode=False)\n",
    "    for i, fname in enumerate(jpegs):\n",
    "        key = pathkey(fname)\n",
    "        jpeg = readfile(fname)\n",
    "        info = jpeginfo(fname)\n",
    "        cls = pathcls(fname)    \n",
    "        if info is None: info = dict(cls=cls)\n",
    "        assert cls == info[\"cls\"]\n",
    "        json = simplejson.dumps(info)\n",
    "        if i%1000==0: print(i, key, len(jpeg), json[:50])\n",
    "        sample = dict(__key__=key,\n",
    "                      jpg=jpeg,\n",
    "                      json=json.encode(\"utf-8\"),\n",
    "                      cls=str(cls).encode(\"utf-8\"))\n",
    "        writer.write(sample)\n",
    "    writer.close()"
   ]
  },
  {
   "cell_type": "code",
   "execution_count": 143,
   "metadata": {},
   "outputs": [],
   "source": [
    "#write_shards(\"../imagenet-shards/imagenet_train-%04d.tgz\", jpegs)"
   ]
  },
  {
   "cell_type": "code",
   "execution_count": 147,
   "metadata": {},
   "outputs": [
    {
     "name": "stdout",
     "output_type": "stream",
     "text": [
      "50000 0\n"
     ]
    }
   ],
   "source": [
    "jpegs = sorted(glob.glob(\"val/*/*.JPEG\"))\n",
    "print(len(jpegs), len(glob.glob(\"val/*/*.xml\")))"
   ]
  },
  {
   "cell_type": "code",
   "execution_count": 157,
   "metadata": {},
   "outputs": [
    {
     "name": "stdout",
     "output_type": "stream",
     "text": [
      "# writing ../imagenet-shards/imagenet_val-0000.tgz 0 0.0 GB 0\n",
      "0 ILSVRC2012_val_00004977 143281 {\"cls\": 154, \"cname\": \"Gordon setter\"}\n",
      "1000 ILSVRC2012_val_00025298 140138 {\"cls\": 526, \"cname\": \"sundial\"}\n",
      "2000 ILSVRC2012_val_00009785 156178 {\"cls\": 326, \"cname\": \"pomegranate\"}\n",
      "3000 ILSVRC2012_val_00024349 180064 {\"cls\": 65, \"cname\": \"hartebeest\"}\n",
      "4000 ILSVRC2012_val_00014632 44827 {\"cls\": 551, \"cname\": \"hand-held computer, hand-he\n",
      "5000 ILSVRC2012_val_00024408 159608 {\"cls\": 883, \"cname\": \"perfume, essence\"}\n",
      "6000 ILSVRC2012_val_00017938 138679 {\"cls\": 143, \"cname\": \"pug, pug-dog\"}\n",
      "7000 ILSVRC2012_val_00005886 129133 {\"cls\": 197, \"cname\": \"Pembroke, Pembroke Welsh co\n",
      "8000 ILSVRC2012_val_00022434 210812 {\"cls\": 89, \"cname\": \"toy terrier\"}\n",
      "9000 ILSVRC2012_val_00020606 40498 {\"cls\": 935, \"cname\": \"Windsor tie\"}\n",
      "10000 ILSVRC2012_val_00027716 142984 {\"cls\": 531, \"cname\": \"syringe\"}\n",
      "11000 ILSVRC2012_val_00028913 137064 {\"cls\": 133, \"cname\": \"Leonberg\"}\n",
      "12000 ILSVRC2012_val_00038677 150307 {\"cls\": 374, \"cname\": \"lawn mower, mower\"}\n",
      "13000 ILSVRC2012_val_00036454 211122 {\"cls\": 152, \"cname\": \"Lakeland terrier\"}\n",
      "14000 ILSVRC2012_val_00028930 27622 {\"cls\": 824, \"cname\": \"mortar\"}\n",
      "15000 ILSVRC2012_val_00039095 77448 {\"cls\": 351, \"cname\": \"ocarina, sweet potato\"}\n",
      "16000 ILSVRC2012_val_00046060 46181 {\"cls\": 300, \"cname\": \"bookcase\"}\n",
      "17000 ILSVRC2012_val_00046181 98184 {\"cls\": 279, \"cname\": \"fire engine, fire truck\"}\n",
      "18000 ILSVRC2012_val_00018209 72621 {\"cls\": 875, \"cname\": \"milk can\"}\n",
      "19000 ILSVRC2012_val_00026911 108289 {\"cls\": 116, \"cname\": \"Shih-Tzu\"}\n",
      "20000 ILSVRC2012_val_00019255 152331 {\"cls\": 977, \"cname\": \"maillot, tank suit\"}\n",
      "21000 ILSVRC2012_val_00018830 155477 {\"cls\": 457, \"cname\": \"gar, garfish, garpike, bill\n",
      "22000 ILSVRC2012_val_00027145 233537 {\"cls\": 390, \"cname\": \"indigo bunting, indigo finc\n",
      "23000 ILSVRC2012_val_00037459 232630 {\"cls\": 119, \"cname\": \"Bedlington terrier\"}\n",
      "24000 ILSVRC2012_val_00017185 211759 {\"cls\": 496, \"cname\": \"eft\"}\n",
      "25000 ILSVRC2012_val_00017215 117096 {\"cls\": 480, \"cname\": \"green snake, grass snake\"}\n",
      "26000 ILSVRC2012_val_00009510 312559 {\"cls\": 383, \"cname\": \"cock\"}\n",
      "27000 ILSVRC2012_val_00049520 113181 {\"cls\": 504, \"cname\": \"paintbrush\"}\n",
      "28000 ILSVRC2012_val_00015467 188257 {\"cls\": 721, \"cname\": \"chainlink fence\"}\n",
      "29000 ILSVRC2012_val_00034075 145937 {\"cls\": 84, \"cname\": \"basenji\"}\n",
      "30000 ILSVRC2012_val_00026351 80585 {\"cls\": 233, \"cname\": \"balloon\"}\n",
      "31000 ILSVRC2012_val_00008584 176794 {\"cls\": 788, \"cname\": \"pop bottle, soda bottle\"}\n",
      "32000 ILSVRC2012_val_00032555 123339 {\"cls\": 317, \"cname\": \"wardrobe, closet, press\"}\n",
      "33000 ILSVRC2012_val_00043695 110299 {\"cls\": 37, \"cname\": \"titi, titi monkey\"}\n",
      "34000 ILSVRC2012_val_00018520 123786 {\"cls\": 570, \"cname\": \"reel\"}\n",
      "35000 ILSVRC2012_val_00032442 104377 {\"cls\": 997, \"cname\": \"rubber eraser, rubber, penc\n",
      "36000 ILSVRC2012_val_00036309 217974 {\"cls\": 679, \"cname\": \"patio, terrace\"}\n",
      "37000 ILSVRC2012_val_00023124 156082 {\"cls\": 890, \"cname\": \"cassette\"}\n",
      "38000 ILSVRC2012_val_00001359 27061 {\"cls\": 190, \"cname\": \"lion, king of beasts, Panth\n",
      "39000 ILSVRC2012_val_00014613 149256 {\"cls\": 955, \"cname\": \"goblet\"}\n",
      "40000 ILSVRC2012_val_00040882 175137 {\"cls\": 697, \"cname\": \"lumbermill, sawmill\"}\n",
      "41000 ILSVRC2012_val_00048651 86988 {\"cls\": 732, \"cname\": \"pedestal, plinth, footstall\n",
      "42000 ILSVRC2012_val_00039887 90345 {\"cls\": 518, \"cname\": \"barometer\"}\n",
      "43000 ILSVRC2012_val_00036820 196311 {\"cls\": 272, \"cname\": \"Model T\"}\n",
      "44000 ILSVRC2012_val_00028893 121345 {\"cls\": 768, \"cname\": \"bagel, beigel\"}\n",
      "45000 ILSVRC2012_val_00024503 115775 {\"cls\": 343, \"cname\": \"violin, fiddle\"}\n",
      "46000 ILSVRC2012_val_00018594 130592 {\"cls\": 596, \"cname\": \"pier\"}\n",
      "47000 ILSVRC2012_val_00049590 49941 {\"cls\": 840, \"cname\": \"hamper\"}\n",
      "48000 ILSVRC2012_val_00004364 171723 {\"cls\": 565, \"cname\": \"pinwheel\"}\n",
      "49000 ILSVRC2012_val_00003480 99766 {\"cls\": 124, \"cname\": \"collie\"}\n"
     ]
    }
   ],
   "source": [
    "mode = \"val\"\n",
    "write_shards(\"../imagenet-shards/imagenet_val-%04d.tgz\", jpegs, maxsize=1e11)"
   ]
  },
  {
   "cell_type": "code",
   "execution_count": null,
   "metadata": {},
   "outputs": [],
   "source": []
  }
 ],
 "metadata": {
  "kernelspec": {
   "display_name": "Python 3",
   "language": "python",
   "name": "python3"
  },
  "language_info": {
   "codemirror_mode": {
    "name": "ipython",
    "version": 3
   },
   "file_extension": ".py",
   "mimetype": "text/x-python",
   "name": "python",
   "nbconvert_exporter": "python",
   "pygments_lexer": "ipython3",
   "version": "3.6.7"
  }
 },
 "nbformat": 4,
 "nbformat_minor": 1
}
