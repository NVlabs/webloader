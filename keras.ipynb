{
 "cells": [
  {
   "cell_type": "markdown",
   "metadata": {},
   "source": [
    "# Simple Example of using WebLoader with Keras"
   ]
  },
  {
   "cell_type": "code",
   "execution_count": 1,
   "metadata": {},
   "outputs": [],
   "source": [
    "#!test -f training.tgz || curl http://storage.googleapis.com/lpr-imagenet-augmented/imagenet_train-0000-000.tgz -o training.tgz\n",
    "#!test -f testing.tgz || curl http://storage.googleapis.com/lpr-imagenet-augmented/imagenet_val-0000.tgz -o testing.tgz"
   ]
  },
  {
   "cell_type": "code",
   "execution_count": 2,
   "metadata": {},
   "outputs": [
    {
     "name": "stderr",
     "output_type": "stream",
     "text": [
      "Using TensorFlow backend.\n"
     ]
    }
   ],
   "source": [
    "from importlib import reload\n",
    "import keras\n",
    "from keras.datasets import cifar10\n",
    "from keras.preprocessing.image import ImageDataGenerator\n",
    "from keras.models import Sequential\n",
    "from keras.layers import Dense, Dropout, Activation, Flatten\n",
    "from keras.layers import Conv2D, MaxPooling2D\n",
    "from keras import models, layers\n",
    "import os\n",
    "import numpy as np\n",
    "import webloader as wl"
   ]
  },
  {
   "cell_type": "code",
   "execution_count": 3,
   "metadata": {},
   "outputs": [],
   "source": [
    "mean = np.array([0.485, 0.456, 0.406], \"f\")\n",
    "std = np.array([0.229, 0.224, 0.225], \"f\")\n",
    "def norm_image(xs):\n",
    "    return (xs-mean[None,None,None,:])/std[None,None,None,:]\n",
    "def norm_cls(ys):\n",
    "    return keras.utils.to_categorical(ys-1, 1000)"
   ]
  },
  {
   "cell_type": "code",
   "execution_count": 4,
   "metadata": {},
   "outputs": [
    {
     "name": "stdout",
     "output_type": "stream",
     "text": [
      "(256, 224, 224, 3) float32 -2.1179 2.64\n",
      "(256, 1000) float32 0.0 1.0\n"
     ]
    }
   ],
   "source": [
    "urls = \"http://storage.googleapis.com/lpr-imagenet-augmented/imagenet_val-0000.tgz\"\n",
    "#urls = \"testing.tgz\"\n",
    "test_batch_size = 256\n",
    "test_num_batches = 50000//test_batch_size\n",
    "testing = wl.WebLoader(urls, 50000,\n",
    "                       fields=\"ppm;png;jpg cls\",\n",
    "                       batch_transforms=[norm_image, norm_cls],\n",
    "                       batch_size=test_batch_size)\n",
    "for xs, ys in testing: break\n",
    "print(xs.shape, xs.dtype, np.amin(xs), np.amax(xs))\n",
    "print(ys.shape, ys.dtype, np.amin(ys), np.amax(ys))"
   ]
  },
  {
   "cell_type": "code",
   "execution_count": 5,
   "metadata": {},
   "outputs": [
    {
     "name": "stdout",
     "output_type": "stream",
     "text": [
      "(32, 224, 224, 3) float32 -2.1179 2.64\n",
      "(32, 1000) float32 0.0 1.0\n"
     ]
    }
   ],
   "source": [
    "urls = \"http://storage.googleapis.com/lpr-imagenet-augmented/imagenet_train-{0000..0147}-{000..019}.tgz\"\n",
    "#urls = \"training.tgz\"\n",
    "batch_size = 32\n",
    "num_batches = 1000000//batch_size\n",
    "training = wl.WebLoader(urls, 1000000,\n",
    "                       fields=\"ppm;png;jpg cls\",\n",
    "                       batch_transforms=[norm_image, norm_cls],\n",
    "                       batch_size=batch_size)\n",
    "xs, ys = next(iter(training))\n",
    "print(xs.shape, xs.dtype, np.amin(xs), np.amax(xs))\n",
    "print(ys.shape, ys.dtype, np.amin(ys), np.amax(ys))"
   ]
  },
  {
   "cell_type": "code",
   "execution_count": null,
   "metadata": {},
   "outputs": [
    {
     "name": "stdout",
     "output_type": "stream",
     "text": [
      "WARNING:tensorflow:From /usr/local/lib/python3.6/dist-packages/tensorflow/python/framework/op_def_library.py:263: colocate_with (from tensorflow.python.framework.ops) is deprecated and will be removed in a future version.\n",
      "Instructions for updating:\n",
      "Colocations handled automatically by placer.\n",
      "WARNING:tensorflow:From /usr/local/lib/python3.6/dist-packages/keras/backend/tensorflow_backend.py:3445: calling dropout (from tensorflow.python.ops.nn_ops) with keep_prob is deprecated and will be removed in a future version.\n",
      "Instructions for updating:\n",
      "Please use `rate` instead of `keep_prob`. Rate should be set to `rate = 1 - keep_prob`.\n",
      "WARNING:tensorflow:From /usr/local/lib/python3.6/dist-packages/tensorflow/python/ops/math_ops.py:3066: to_int32 (from tensorflow.python.ops.math_ops) is deprecated and will be removed in a future version.\n",
      "Instructions for updating:\n",
      "Use tf.cast instead.\n",
      "Epoch 1/1\n"
     ]
    }
   ],
   "source": [
    "batch_norm = True\n",
    "dropout = 0.5\n",
    "nclasses = 1000\n",
    "shape = (224, 224, 3)\n",
    "batchsize = 32\n",
    "lr = 0.001 # was: 0.0001\n",
    "\n",
    "def vgg_block(d, r=2, name=None, size=(3, 3), mp_size=(2, 2), mp_strides=(2, 2)):\n",
    "    result = []\n",
    "    for i in range(r):\n",
    "        name1 = name + \"-{}\".format(i) if name is not None else None\n",
    "        if batch_norm:\n",
    "            result += [\n",
    "                layers.Conv2D(d, size, padding=\"same\", name=name1),\n",
    "                layers.BatchNormalization(),\n",
    "                layers.Activation(\"relu\")\n",
    "            ]\n",
    "        else:\n",
    "            result += [layers.Conv2D(d, size, activation=\"relu\", padding=\"same\", name=name1)]        \n",
    "    name1 = name + \"-mp\" if name is not None else None\n",
    "    result += [layers.MaxPooling2D(mp_size, mp_strides, name=name1)]\n",
    "    return result\n",
    "\n",
    "model = models.Sequential(\n",
    "    [layers.Lambda(lambda x: x + 0, input_shape=shape)] +         \n",
    "    vgg_block(64, 2) + \n",
    "    vgg_block(128, 2) +\n",
    "    vgg_block(256, 3) +\n",
    "    vgg_block(512, 3) +\n",
    "    vgg_block(512, 3) +\n",
    "    [layers.Flatten(name=\"flatten\"),\n",
    "     layers.Dense(4096, activation=\"relu\", name=\"fc1\"),\n",
    "     layers.Dropout(rate=1-dropout),\n",
    "     layers.Dense(4096, activation=\"relu\", name=\"fc2\"),\n",
    "     layers.Dropout(rate=1-dropout),\n",
    "     layers.Dense(nclasses, activation=\"softmax\", name=\"prediction\")])\n",
    "\n",
    "opt = keras.optimizers.rmsprop(lr=lr, decay=1e-6)\n",
    "\n",
    "model.compile(loss='categorical_crossentropy',\n",
    "              optimizer=opt,\n",
    "              metrics=['accuracy'])\n",
    "\n",
    "model.fit_generator(iter(training),\n",
    "              epochs=1,\n",
    "              steps_per_epoch=num_batches, #num_batches,\n",
    "              validation_data=iter(testing),\n",
    "              validation_steps=test_num_batches, #test_num_batches,\n",
    "              shuffle=True)"
   ]
  }
 ],
 "metadata": {
  "kernelspec": {
   "display_name": "Python 3",
   "language": "python",
   "name": "python3"
  },
  "language_info": {
   "codemirror_mode": {
    "name": "ipython",
    "version": 3
   },
   "file_extension": ".py",
   "mimetype": "text/x-python",
   "name": "python",
   "nbconvert_exporter": "python",
   "pygments_lexer": "ipython3",
   "version": "3.6.7"
  }
 },
 "nbformat": 4,
 "nbformat_minor": 4
}
